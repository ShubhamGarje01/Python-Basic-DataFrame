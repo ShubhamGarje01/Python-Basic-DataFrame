{
 "cells": [
  {
   "cell_type": "markdown",
   "id": "b2db612e",
   "metadata": {},
   "source": [
    "### Use Bank Dataset from LMS\n",
    "\n",
    "A)change all the categorical columns into numerical by creating Dummies and using label encoder.\n",
    "\n",
    "B) rename all the column names DF\n",
    "\n",
    "C) Rename only one specific column in DF\n",
    "\n",
    "### After doing all the changes in bank data(Q19). save the file in your directory in Csv Format."
   ]
  },
  {
   "cell_type": "code",
   "execution_count": null,
   "id": "515583e0",
   "metadata": {},
   "outputs": [],
   "source": []
  }
 ],
 "metadata": {
  "kernelspec": {
   "display_name": "Python 3",
   "language": "python",
   "name": "python3"
  },
  "language_info": {
   "codemirror_mode": {
    "name": "ipython",
    "version": 3
   },
   "file_extension": ".py",
   "mimetype": "text/x-python",
   "name": "python",
   "nbconvert_exporter": "python",
   "pygments_lexer": "ipython3",
   "version": "3.8.8"
  }
 },
 "nbformat": 4,
 "nbformat_minor": 5
}
